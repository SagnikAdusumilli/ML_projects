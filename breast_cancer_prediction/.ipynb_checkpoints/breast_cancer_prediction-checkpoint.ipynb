{
 "cells": [
  {
   "cell_type": "markdown",
   "metadata": {
    "id": "Vh9p8pd0MHgh"
   },
   "source": [
    "#Import Libraries\n",
    "\n"
   ]
  },
  {
   "cell_type": "code",
   "execution_count": 2,
   "metadata": {
    "id": "Vb38fotOMP8r"
   },
   "outputs": [],
   "source": [
    "import pandas as pd \n",
    "import numpy as np\n",
    "import matplotlib.pyplot as plt"
   ]
  },
  {
   "cell_type": "markdown",
   "metadata": {
    "id": "QTIPIncjNiHK"
   },
   "source": [
    "# Import Data"
   ]
  },
  {
   "cell_type": "code",
   "execution_count": 3,
   "metadata": {
    "colab": {
     "base_uri": "https://localhost:8080/"
    },
    "id": "Qk1wia63NpcH",
    "outputId": "89d179e8-7b3d-4493-97d1-841ed9dd30c0"
   },
   "outputs": [
    {
     "name": "stdout",
     "output_type": "stream",
     "text": [
      "dataset size: 7513\n",
      "\n",
      "Overview of data \n",
      "    Sample code number  Clump Thickness  Uniformity of Cell Size  \\\n",
      "0             1000025                5                        1   \n",
      "1             1002945                5                        4   \n",
      "2             1015425                3                        1   \n",
      "3             1016277                6                        8   \n",
      "4             1017023                4                        1   \n",
      "\n",
      "   Uniformity of Cell Shape  Marginal Adhesion  Single Epithelial Cell Size  \\\n",
      "0                         1                  1                            2   \n",
      "1                         4                  5                            7   \n",
      "2                         1                  1                            2   \n",
      "3                         8                  1                            3   \n",
      "4                         1                  3                            2   \n",
      "\n",
      "   Bare Nuclei  Bland Chromatin  Normal Nucleoli  Mitoses  Class  \n",
      "0            1                3                1        1      2  \n",
      "1           10                3                2        1      2  \n",
      "2            2                3                1        1      2  \n",
      "3            4                3                7        1      2  \n",
      "4            1                3                1        1      2  \n",
      "Class types:\n",
      " 2    444\n",
      "4    239\n",
      "Name: Class, dtype: int64\n"
     ]
    }
   ],
   "source": [
    "dataset = pd.read_csv('patient_data.csv')\n",
    "# dataset.isnull().values.any() no missing data\n",
    "print('dataset size: %d\\n' % dataset.size)\n",
    "print('Overview of data \\n', dataset.head())\n",
    "print('Class types:\\n',dataset['Class'].value_counts())\n",
    "# we don't need sample code number\n",
    "x = dataset.iloc[:, 1:-1].values\n",
    "y = dataset.iloc[:, -1].values"
   ]
  },
  {
   "cell_type": "markdown",
   "metadata": {
    "id": "U5gdvAAOQE8M"
   },
   "source": [
    "We are going to assume that class 2 is normal and class 4 is cancerous"
   ]
  },
  {
   "cell_type": "markdown",
   "metadata": {
    "id": "c2vA5k7UQbyW"
   },
   "source": [
    "# Split into train and test sets"
   ]
  },
  {
   "cell_type": "code",
   "execution_count": 4,
   "metadata": {
    "id": "2BG8aJYqShPi"
   },
   "outputs": [],
   "source": [
    "from sklearn.model_selection import train_test_split\n",
    "x_train, x_test, y_train, y_test = train_test_split(x, y, test_size=0.2, random_state=0) "
   ]
  },
  {
   "cell_type": "markdown",
   "metadata": {
    "id": "alMC5nkxS_S5"
   },
   "source": [
    "# Feature scaling"
   ]
  },
  {
   "cell_type": "code",
   "execution_count": 5,
   "metadata": {
    "id": "lA2yuSOrTCmb"
   },
   "outputs": [],
   "source": [
    "# although the variance of features in x is similar so it may not be required\n",
    "from sklearn.preprocessing import StandardScaler\n",
    "sc = StandardScaler()\n",
    "x_train = sc.fit_transform(x_train)\n",
    "# we only want the test set to be scaled as per the training set was scaled\n",
    "x_test = sc.transform(x_test)"
   ]
  },
  {
   "cell_type": "markdown",
   "metadata": {
    "id": "Coza6sf0TfoS"
   },
   "source": [
    "# Model creation"
   ]
  },
  {
   "cell_type": "code",
   "execution_count": 6,
   "metadata": {
    "id": "iQjGYpdbTi1I"
   },
   "outputs": [],
   "source": [
    "# Logistic regression\n",
    "from sklearn.linear_model import LogisticRegression\n",
    "lr = LogisticRegression().fit(x_train, y_train)\n",
    "# KNN\n",
    "from sklearn.neighbors import KNeighborsClassifier\n",
    "knn = KNeighborsClassifier(n_neighbors = 5, metric = 'minkowski', p = 2).fit(x_train, y_train)\n",
    "# SVM\n",
    "from sklearn.svm import SVC\n",
    "svc = SVC(kernel='rbf').fit(x_train, y_train)\n",
    "# Naive Bayes\n",
    "from sklearn.naive_bayes import GaussianNB\n",
    "nb = GaussianNB().fit(x_train, y_train)\n",
    "# Random forest\n",
    "from sklearn.ensemble import RandomForestClassifier\n",
    "rf = RandomForestClassifier(n_estimators=10, criterion='entropy').fit(x_train, y_train)"
   ]
  },
  {
   "cell_type": "markdown",
   "metadata": {
    "id": "wnDyFhroWN5O"
   },
   "source": [
    "# Confustion matrix and accuracy"
   ]
  },
  {
   "cell_type": "code",
   "execution_count": 7,
   "metadata": {
    "colab": {
     "base_uri": "https://localhost:8080/",
     "height": 1000
    },
    "id": "jjNoEpFbWRN-",
    "outputId": "a6b7d0a0-6946-44d2-f11a-c8feb7cce104"
   },
   "outputs": [
    {
     "name": "stdout",
     "output_type": "stream",
     "text": [
      "Logistic Regression performance\n"
     ]
    },
    {
     "data": {
      "image/png": "[encoded data removed]",
      "text/plain": [
       "<Figure size 432x288 with 2 Axes>"
      ]
     },
     "metadata": {
      "needs_background": "light"
     },
     "output_type": "display_data"
    },
    {
     "name": "stdout",
     "output_type": "stream",
     "text": [
      "0.9562043795620438\n",
      "KNN performance\n"
     ]
    },
    {
     "data": {
      "image/png": "[encoded data removed]",
      "text/plain": [
       "<Figure size 432x288 with 2 Axes>"
      ]
     },
     "metadata": {
      "needs_background": "light"
     },
     "output_type": "display_data"
    },
    {
     "name": "stdout",
     "output_type": "stream",
     "text": [
      "0.9562043795620438\n",
      "SVM performance\n"
     ]
    },
    {
     "data": {
      "image/png": "[encoded data removed]",
      "text/plain": [
       "<Figure size 432x288 with 2 Axes>"
      ]
     },
     "metadata": {
      "needs_background": "light"
     },
     "output_type": "display_data"
    },
    {
     "name": "stdout",
     "output_type": "stream",
     "text": [
      "0.9562043795620438\n",
      "Naive Bayes performance\n"
     ]
    },
    {
     "data": {
      "image/png": "[encoded data removed]",
      "text/plain": [
       "<Figure size 432x288 with 2 Axes>"
      ]
     },
     "metadata": {
      "needs_background": "light"
     },
     "output_type": "display_data"
    },
    {
     "name": "stdout",
     "output_type": "stream",
     "text": [
      "0.948905109489051\n",
      "Random Forest performance\n"
     ]
    },
    {
     "data": {
      "image/png": "[encoded data removed]",
      "text/plain": [
       "<Figure size 432x288 with 2 Axes>"
      ]
     },
     "metadata": {
      "needs_background": "light"
     },
     "output_type": "display_data"
    },
    {
     "name": "stdout",
     "output_type": "stream",
     "text": [
      "0.9562043795620438\n"
     ]
    }
   ],
   "source": [
    "from sklearn.metrics import confusion_matrix, accuracy_score, plot_confusion_matrix\n",
    "# logistic regression\n",
    "print(\"Logistic Regression performance\")\n",
    "y_pred_lr = lr.predict(x_test)\n",
    "#print(confusion_matrix(y_test, y_pred_lr))\n",
    "plot_confusion_matrix(lr, x_test, y_test)\n",
    "plt.show()\n",
    "print(accuracy_score(y_test, y_pred_lr))\n",
    "\n",
    "# knn\n",
    "print(\"KNN performance\")\n",
    "y_pred_knn = knn.predict(x_test)\n",
    "# print(confusion_matrix(y_test, y_pred_knn))\n",
    "plot_confusion_matrix(knn, x_test, y_test)\n",
    "plt.show()\n",
    "print(accuracy_score(y_test, y_pred_knn))\n",
    "\n",
    "# SVM\n",
    "print(\"SVM performance\")\n",
    "y_pred_svc = svc.predict(x_test)\n",
    "# print(confusion_matrix(y_test, y_pred_svc))\n",
    "plot_confusion_matrix(svc, x_test, y_test)\n",
    "plt.show()\n",
    "print(accuracy_score(y_test, y_pred_svc))\n",
    "\n",
    "# Naive Bayes\n",
    "print(\"Naive Bayes performance\")\n",
    "y_pred_nb = nb.predict(x_test)\n",
    "# print(confusion_matrix(y_test, y_pred_nb))\n",
    "plot_confusion_matrix(nb, x_test, y_test)\n",
    "plt.show()\n",
    "print(accuracy_score(y_test, y_pred_nb))\n",
    "\n",
    "# Random Forest\n",
    "print(\"Random Forest performance\")\n",
    "y_pred_rf = rf.predict(x_test)\n",
    "# print(confusion_matrix(y_test, y_pred_rf))\n",
    "plot_confusion_matrix(rf, x_test, y_test)\n",
    "plt.show()\n",
    "print(accuracy_score(y_test, y_pred_rf))"
   ]
  },
  {
   "cell_type": "markdown",
   "metadata": {
    "id": "LC0XYJzXvz3B"
   },
   "source": [
    "#TODO\n",
    "draw CAP curves to compare models  \n",
    "impletment decision tree and check interpretibilty  \n",
    "rank patients likely to have cancer using SVM, logistic regression\n"
   ]
  }
 ],
 "metadata": {
  "colab": {
   "name": "breast_cancer_prediction.ipynb",
   "provenance": [],
   "toc_visible": true
  },
  "kernelspec": {
   "display_name": "Python 3",
   "language": "python",
   "name": "python3"
  },
  "language_info": {
   "codemirror_mode": {
    "name": "ipython",
    "version": 3
   },
   "file_extension": ".py",
   "mimetype": "text/x-python",
   "name": "python",
   "nbconvert_exporter": "python",
   "pygments_lexer": "ipython3",
   "version": "3.7.1"
  }
 },
 "nbformat": 4,
 "nbformat_minor": 1
}
