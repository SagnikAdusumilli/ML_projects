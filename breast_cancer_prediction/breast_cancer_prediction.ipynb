{
  "nbformat": 4,
  "nbformat_minor": 0,
  "metadata": {
    "colab": {
      "name": "breast_cancer_prediction.ipynb",
      "provenance": []
    },
    "kernelspec": {
      "name": "python3",
      "display_name": "Python 3"
    }
  },
  "cells": [
    {
      "cell_type": "markdown",
      "metadata": {
        "id": "Vh9p8pd0MHgh"
      },
      "source": [
        "#Import Libraries\r\n",
        "\r\n"
      ]
    },
    {
      "cell_type": "code",
      "metadata": {
        "id": "Vb38fotOMP8r"
      },
      "source": [
        "import pandas as pd \r\n",
        "import numpy as np\r\n",
        "import matplotlib.pyplot as plt"
      ],
      "execution_count": null,
      "outputs": []
    },
    {
      "cell_type": "markdown",
      "metadata": {
        "id": "QTIPIncjNiHK"
      },
      "source": [
        "# Import Data"
      ]
    },
    {
      "cell_type": "code",
      "metadata": {
        "colab": {
          "base_uri": "https://localhost:8080/"
        },
        "id": "Qk1wia63NpcH",
        "outputId": "b6c5b256-8f33-48c1-de9e-2d3b711f12fc"
      },
      "source": [
        "dataset = pd.read_csv('patient_data.csv')\r\n",
        "# dataset.isnull().values.any() no missing data\r\n",
        "print('dataset size: %d\\n' % dataset.size)\r\n",
        "print('Overview of data \\n', dataset.head())\r\n",
        "print('Class types:\\n',dataset['Class'].value_counts())\r\n",
        "# we don't need sample code number\r\n",
        "x = dataset.iloc[:, 1:-1].values\r\n",
        "y = dataset.iloc[:, -1].values"
      ],
      "execution_count": null,
      "outputs": [
        {
          "output_type": "stream",
          "text": [
            "dataset size: 7513\n",
            "\n",
            "Overview of data \n",
            "    Sample code number  Clump Thickness  ...  Mitoses  Class\n",
            "0             1000025                5  ...        1      2\n",
            "1             1002945                5  ...        1      2\n",
            "2             1015425                3  ...        1      2\n",
            "3             1016277                6  ...        1      2\n",
            "4             1017023                4  ...        1      2\n",
            "\n",
            "[5 rows x 11 columns]\n",
            "Class types:\n",
            " 2    444\n",
            "4    239\n",
            "Name: Class, dtype: int64\n"
          ],
          "name": "stdout"
        }
      ]
    },
    {
      "cell_type": "markdown",
      "metadata": {
        "id": "U5gdvAAOQE8M"
      },
      "source": [
        "We are going to assume that class 2 is normal and class 4 is cancerous"
      ]
    },
    {
      "cell_type": "markdown",
      "metadata": {
        "id": "c2vA5k7UQbyW"
      },
      "source": [
        "# Split into train and test sets"
      ]
    },
    {
      "cell_type": "code",
      "metadata": {
        "id": "2BG8aJYqShPi"
      },
      "source": [
        "from sklearn.model_selection import train_test_split\r\n",
        "x_train, x_test, y_train, y_test = train_test_split(x, y, test_size=0.2, random_state=0) "
      ],
      "execution_count": null,
      "outputs": []
    },
    {
      "cell_type": "markdown",
      "metadata": {
        "id": "alMC5nkxS_S5"
      },
      "source": [
        "# Feature scaling"
      ]
    },
    {
      "cell_type": "code",
      "metadata": {
        "id": "lA2yuSOrTCmb"
      },
      "source": [
        "# although the variance of features in x is similar so it may not be required\r\n",
        "from sklearn.preprocessing import StandardScaler\r\n",
        "sc = StandardScaler()\r\n",
        "x_train = sc.fit_transform(x_train)\r\n",
        "x_test = sc.fit_transform(x_test)"
      ],
      "execution_count": null,
      "outputs": []
    },
    {
      "cell_type": "markdown",
      "metadata": {
        "id": "Coza6sf0TfoS"
      },
      "source": [
        "# Model creation"
      ]
    },
    {
      "cell_type": "code",
      "metadata": {
        "id": "iQjGYpdbTi1I"
      },
      "source": [
        "# Logistic regression\r\n",
        "from sklearn.linear_model import LogisticRegression\r\n",
        "lr = LogisticRegression().fit(x_train, y_train)\r\n",
        "# KNN\r\n",
        "from sklearn.neighbors import KNeighborsClassifier\r\n",
        "knn = KNeighborsClassifier(n_neighbors = 5, metric = 'minkowski', p = 2).fit(x_train, y_train)\r\n",
        "# SVM\r\n",
        "from sklearn.svm import SVC\r\n",
        "svc = SVC(kernel='rbf').fit(x_train, y_train)\r\n",
        "# Naive Bayes\r\n",
        "from sklearn.naive_bayes import GaussianNB\r\n",
        "nb = GaussianNB().fit(x_train, y_train)\r\n",
        "# Random forest\r\n",
        "from sklearn.ensemble import RandomForestClassifier\r\n",
        "rf = RandomForestClassifier(criterion='entropy').fit(x_train, y_train)"
      ],
      "execution_count": null,
      "outputs": []
    },
    {
      "cell_type": "markdown",
      "metadata": {
        "id": "wnDyFhroWN5O"
      },
      "source": [
        "# Confustion matrix and accuracy"
      ]
    },
    {
      "cell_type": "code",
      "metadata": {
        "colab": {
          "base_uri": "https://localhost:8080/"
        },
        "id": "jjNoEpFbWRN-",
        "outputId": "d98cc885-4808-4edb-9936-acaad3e838f3"
      },
      "source": [
        "from sklearn.metrics import confusion_matrix, accuracy_score\r\n",
        "# logistic regression\r\n",
        "print(\"Logistic Regression performance\")\r\n",
        "y_pred_lr = lr.predict(x_test)\r\n",
        "print(confusion_matrix(y_test, y_pred_lr))\r\n",
        "print(accuracy_score(y_test, y_pred_lr))\r\n",
        "\r\n",
        "# knn\r\n",
        "print(\"KNN performance\")\r\n",
        "y_pred_knn = knn.predict(x_test)\r\n",
        "print(confusion_matrix(y_test, y_pred_knn))\r\n",
        "print(accuracy_score(y_test, y_pred_knn))\r\n",
        "\r\n",
        "# SVM\r\n",
        "print(\"SVM performance\")\r\n",
        "y_pred_svc = svc.predict(x_test)\r\n",
        "print(confusion_matrix(y_test, y_pred_svc))\r\n",
        "print(accuracy_score(y_test, y_pred_svc))\r\n",
        "\r\n",
        "# Naive Bayes\r\n",
        "print(\"Naive Bayes performance\")\r\n",
        "y_pred_nb = nb.predict(x_test)\r\n",
        "print(confusion_matrix(y_test, y_pred_nb))\r\n",
        "print(accuracy_score(y_test, y_pred_nb))\r\n",
        "\r\n",
        "# Random Forest\r\n",
        "print(\"Random Forest performance\")\r\n",
        "y_pred_rf = rf.predict(x_test)\r\n",
        "print(confusion_matrix(y_test, y_pred_rf))\r\n",
        "print(accuracy_score(y_test, y_pred_rf))"
      ],
      "execution_count": null,
      "outputs": [
        {
          "output_type": "stream",
          "text": [
            "Logistic Regression performance\n",
            "[[84  3]\n",
            " [ 3 47]]\n",
            "0.9562043795620438\n",
            "KNN performance\n",
            "[[82  5]\n",
            " [ 2 48]]\n",
            "0.948905109489051\n",
            "SVM performance\n",
            "[[82  5]\n",
            " [ 1 49]]\n",
            "0.9562043795620438\n",
            "Naive Bayes performance\n",
            "[[80  7]\n",
            " [ 1 49]]\n",
            "0.9416058394160584\n",
            "Random Forest performance\n",
            "[[84  3]\n",
            " [ 1 49]]\n",
            "0.9708029197080292\n"
          ],
          "name": "stdout"
        }
      ]
    },
    {
      "cell_type": "markdown",
      "metadata": {
        "id": "LC0XYJzXvz3B"
      },
      "source": [
        "#TODO\r\n",
        "draw CAP curves to compare models  \r\n",
        "impletment decision tree and check interpretibilty  \r\n",
        "rank patients likely to have cancer using SVM, logistic regression\r\n"
      ]
    }
  ]
}