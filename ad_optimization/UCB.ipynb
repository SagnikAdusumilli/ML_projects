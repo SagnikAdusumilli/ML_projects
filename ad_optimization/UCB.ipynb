{
  "nbformat": 4,
  "nbformat_minor": 0,
  "metadata": {
    "colab": {
      "name": "Copy of upper_confidence_bound.ipynb",
      "provenance": [],
      "collapsed_sections": [],
      "toc_visible": true
    },
    "kernelspec": {
      "name": "python3",
      "display_name": "Python 3"
    }
  },
  "cells": [
    {
      "cell_type": "markdown",
      "metadata": {
        "id": "QJdrJJQUv3-k"
      },
      "source": [
        "# Upper Confidence Bound (UCB)"
      ]
    },
    {
      "cell_type": "markdown",
      "metadata": {
        "id": "2XCjepjJwEv-"
      },
      "source": [
        "## Importing the libraries"
      ]
    },
    {
      "cell_type": "code",
      "metadata": {
        "id": "l_mBkG3YwNTt"
      },
      "source": [
        "import numpy as np\n",
        "import matplotlib.pyplot as plt\n",
        "import pandas as pd"
      ],
      "execution_count": 30,
      "outputs": []
    },
    {
      "cell_type": "markdown",
      "metadata": {
        "id": "npqlXjaNwYTv"
      },
      "source": [
        "## Importing the dataset"
      ]
    },
    {
      "cell_type": "code",
      "metadata": {
        "id": "HMJfUVLVwcFc",
        "colab": {
          "base_uri": "https://localhost:8080/"
        },
        "outputId": "103639e6-24f4-4ebd-dc8d-e2cacc1bb9d9"
      },
      "source": [
        "dataset = pd.read_csv('Ads_CTR_Optimisation.csv')\r\n",
        "print(dataset.head())"
      ],
      "execution_count": 31,
      "outputs": [
        {
          "output_type": "stream",
          "text": [
            "   Ad 1  Ad 2  Ad 3  Ad 4  Ad 5  Ad 6  Ad 7  Ad 8  Ad 9  Ad 10\n",
            "0     1     0     0     0     1     0     0     0     1      0\n",
            "1     0     0     0     0     0     0     0     0     1      0\n",
            "2     0     0     0     0     0     0     0     0     0      0\n",
            "3     0     1     0     0     0     0     0     1     0      0\n",
            "4     0     0     0     0     0     0     0     0     0      0\n"
          ],
          "name": "stdout"
        }
      ]
    },
    {
      "cell_type": "code",
      "metadata": {
        "id": "vqyexRu1hzA8"
      },
      "source": [
        "# we have 10 ads and we have to figure out which ad attracts the most people\r\n",
        "# each click is regitered as 1 else 0\r\n",
        "# so eg for first row if the alg picked ad1, ad5 or ad9 to show it would get 1 otherwise 0\r\n",
        "# this is a simulation of real time process\r\n",
        "# Assumes that each ad has fixed convertion rate"
      ],
      "execution_count": 32,
      "outputs": []
    },
    {
      "cell_type": "markdown",
      "metadata": {
        "id": "PaSbots_wfoB"
      },
      "source": [
        "## Implementing UCB"
      ]
    },
    {
      "cell_type": "code",
      "metadata": {
        "id": "ic6fm6j_onvU"
      },
      "source": [
        "import math\r\n",
        "N = 10000\r\n",
        "d = 10\r\n",
        "\r\n",
        "# ad selected at round n\r\n",
        "ad_selected = []\r\n",
        "\r\n",
        "# number of times ad i was chosen\r\n",
        "# upto round n\r\n",
        "number_of_selections = [0]*d;\r\n",
        "# sum of rewards of ad i upto round n\r\n",
        "sum_of_rewards = [0]*d\r\n",
        "\r\n",
        "# we want to maximizie this\r\n",
        "total_reward = 0\r\n",
        "\r\n",
        "for n in range(0, N):\r\n",
        "  ad = 0 # we start from ad1\r\n",
        "  max_upper_bound = 0\r\n",
        "  for i in range (0, d):\r\n",
        "    # compute the ucb for each ad\r\n",
        "    if number_of_selections[i] > 0:\r\n",
        "      average_reward = sum_of_rewards[i]/number_of_selections[i]\r\n",
        "      delta_i = math.sqrt((3 * math.log(n+1))/(2 * number_of_selections[i]))\r\n",
        "      ucb = average_reward + delta_i\r\n",
        "    else:\r\n",
        "      ucb = 1e400 # default confidence\r\n",
        "      # this high value ensures that if it wasn't selected yet it will be selected\r\n",
        "    \r\n",
        "    # updating the max confindence bound computing ucb of each ad\r\n",
        "    if ucb > max_upper_bound:\r\n",
        "      # select ad i\r\n",
        "      max_upper_bound = ucb\r\n",
        "      ad = i\r\n",
        "      \r\n",
        "  ad_selected.append(ad)\r\n",
        "  number_of_selections[ad] = number_of_selections[ad] + 1\r\n",
        "  reward = dataset.values[n, ad]\r\n",
        "  sum_of_rewards[ad] = sum_of_rewards[ad] + reward\r\n",
        "  total_reward = total_reward + reward"
      ],
      "execution_count": 33,
      "outputs": []
    },
    {
      "cell_type": "markdown",
      "metadata": {
        "id": "AXftWcjDwsYj"
      },
      "source": [
        "## Visualising the results"
      ]
    },
    {
      "cell_type": "code",
      "metadata": {
        "colab": {
          "base_uri": "https://localhost:8080/",
          "height": 329
        },
        "id": "MHsJdblvya-4",
        "outputId": "8934a02b-c103-4a94-81be-d072e2066527"
      },
      "source": [
        "plt.hist(ad_selected)\r\n",
        "plt.xlabel('Ads')\r\n",
        "plt.ylabel('Number of times Ad was picked')\r\n",
        "plt.title('Ad Selection distribution using UCB')\r\n",
        "plt.show()\r\n",
        "print('total_clicks', total_reward)\r\n",
        "print('reward percentage:',(total_reward/N)*100)\r\n",
        "# if we picked randomly we would get a reward of 1000 (if they were all equal distribution) \r\n",
        "# which is 10% so we doubled the rewards"
      ],
      "execution_count": 34,
      "outputs": [
        {
          "output_type": "display_data",
          "data": {
            "image/png": "[encoded data removed]",
            "text/plain": [
              "<Figure size 432x288 with 1 Axes>"
            ]
          },
          "metadata": {
            "tags": [],
            "needs_background": "light"
          }
        },
        {
          "output_type": "stream",
          "text": [
            "total_clicks 2178\n",
            "reward percentage: 21.78\n"
          ],
          "name": "stdout"
        }
      ]
    },
    {
      "cell_type": "markdown",
      "metadata": {
        "id": "F5Lvdsbb24r7"
      },
      "source": [
        "Note: it can find the best ad in 1000 rounds"
      ]
    },
    {
      "cell_type": "markdown",
      "metadata": {
        "id": "R4K07ei_Jqfu"
      },
      "source": [
        "TODO: figure out the actual probabilites of each ad and find out the reward we would have gotten if we would have picked uniformly in the 10 ads  \r\n",
        "P(d) = (# row entries where dth column = 1)/N"
      ]
    }
  ]
}