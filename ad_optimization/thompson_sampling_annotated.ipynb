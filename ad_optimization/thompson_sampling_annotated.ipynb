{
  "nbformat": 4,
  "nbformat_minor": 0,
  "metadata": {
    "colab": {
      "name": "Copy of thompson_sampling.ipynb",
      "provenance": [],
      "collapsed_sections": [],
      "toc_visible": true
    },
    "kernelspec": {
      "name": "python3",
      "display_name": "Python 3"
    }
  },
  "cells": [
    {
      "cell_type": "markdown",
      "metadata": {
        "id": "vPKTIRAtx232"
      },
      "source": [
        "# Thompson Sampling"
      ]
    },
    {
      "cell_type": "markdown",
      "metadata": {
        "id": "PqPv9zpAx-EE"
      },
      "source": [
        "## Importing the libraries"
      ]
    },
    {
      "cell_type": "code",
      "metadata": {
        "id": "lozuE-Fhx_QB"
      },
      "source": [
        "import numpy as np\n",
        "import matplotlib.pyplot as plt\n",
        "import pandas as pd"
      ],
      "execution_count": 15,
      "outputs": []
    },
    {
      "cell_type": "markdown",
      "metadata": {
        "id": "iqpVk5HhyGmO"
      },
      "source": [
        "## Importing the dataset"
      ]
    },
    {
      "cell_type": "code",
      "metadata": {
        "id": "kY4zzW4hyNfA"
      },
      "source": [
        "dataset = pd.read_csv('Ads_CTR_Optimisation.csv')"
      ],
      "execution_count": 16,
      "outputs": []
    },
    {
      "cell_type": "markdown",
      "metadata": {
        "id": "WqoXeWOYyQhB"
      },
      "source": [
        "## Implementing Thompson Sampling"
      ]
    },
    {
      "cell_type": "code",
      "metadata": {
        "id": "-h_ypjJfOfqk"
      },
      "source": [
        "import random\r\n",
        "N = 10000\r\n",
        "d = 10\r\n",
        "ads_selected = []\r\n",
        "number_of_rewards_1 = [0] * d\r\n",
        "number_of_rewards_0 = [0] * d\r\n",
        "total_reward = 0\r\n",
        "\r\n",
        "for n in range (0, N):\r\n",
        "  ad = 0\r\n",
        "  max_random = 0\r\n",
        "  for i in range (0, d):\r\n",
        "    random_beta = random.betavariate(number_of_rewards_1[i]+1, number_of_rewards_0[i] +1)\r\n",
        "    if random_beta > max_random:\r\n",
        "      ad = i\r\n",
        "      max_random = random_beta\r\n",
        "  ads_selected.append(ad)\r\n",
        "  reward = dataset.values[n, ad]\r\n",
        "  if reward == 1:\r\n",
        "    number_of_rewards_1[ad] = number_of_rewards_1[ad] + 1\r\n",
        "  else:\r\n",
        "     number_of_rewards_0[ad] = number_of_rewards_0[ad] + 1\r\n",
        "  total_reward = total_reward + reward"
      ],
      "execution_count": 17,
      "outputs": []
    },
    {
      "cell_type": "markdown",
      "metadata": {
        "id": "tweWsgTHyXhv"
      },
      "source": [
        "## Visualising the results - Histogram"
      ]
    },
    {
      "cell_type": "code",
      "metadata": {
        "colab": {
          "base_uri": "https://localhost:8080/",
          "height": 329
        },
        "id": "_AVWbCvyRtJu",
        "outputId": "bef9c967-51b2-4ccb-e29c-2eff07d3a356"
      },
      "source": [
        "plt.hist(ads_selected)\r\n",
        "plt.xlabel('ad')\r\n",
        "plt.ylabel('number of clicks')\r\n",
        "plt.title('Choices made using Thomson Sampling')\r\n",
        "plt.show()\r\n",
        "print('total reward:', total_reward)\r\n",
        "print('total reward %:', (total_reward/N)*100)\r\n",
        "# almost 26%, seems Thompson sampling is better\r\n",
        "# even with 500 rounds the alg can figure out which ad is best"
      ],
      "execution_count": 18,
      "outputs": [
        {
          "output_type": "display_data",
          "data": {
            "image/png": "[encoded data removed]",
            "text/plain": [
              "<Figure size 432x288 with 1 Axes>"
            ]
          },
          "metadata": {
            "tags": [],
            "needs_background": "light"
          }
        },
        {
          "output_type": "stream",
          "text": [
            "total reward: 2592\n",
            "total reward %: 25.919999999999998\n"
          ],
          "name": "stdout"
        }
      ]
    }
  ]
}