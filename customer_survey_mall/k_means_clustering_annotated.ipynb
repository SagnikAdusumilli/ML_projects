{
  "nbformat": 4,
  "nbformat_minor": 0,
  "metadata": {
    "colab": {
      "name": "Copy of k_means_clustering.ipynb",
      "provenance": [],
      "toc_visible": true
    },
    "kernelspec": {
      "name": "python3",
      "display_name": "Python 3"
    }
  },
  "cells": [
    {
      "cell_type": "markdown",
      "metadata": {
        "id": "i_paGd_yLbgH"
      },
      "source": [
        "# K-Means Clustering"
      ]
    },
    {
      "cell_type": "markdown",
      "metadata": {
        "id": "nAuqPwTnLipr"
      },
      "source": [
        "## Importing the libraries"
      ]
    },
    {
      "cell_type": "code",
      "metadata": {
        "id": "yUXGcC4KLmcL"
      },
      "source": [
        "import numpy as np\n",
        "import matplotlib.pyplot as plt\n",
        "import pandas as pd"
      ],
      "execution_count": 26,
      "outputs": []
    },
    {
      "cell_type": "markdown",
      "metadata": {
        "id": "5LciKOr8Lo5O"
      },
      "source": [
        "## Importing the dataset"
      ]
    },
    {
      "cell_type": "code",
      "metadata": {
        "id": "9RlmPzZGLtGi",
        "colab": {
          "base_uri": "https://localhost:8080/"
        },
        "outputId": "c6123cd9-cc31-4dfa-ed91-7ca47406d3d9"
      },
      "source": [
        "dataset = pd.read_csv('Mall_Customers.csv')\n",
        "print(dataset.head())\n",
        "# customers id doesn't have any impact on patterns\n",
        "# only took 2 values for visualization purposes\n",
        "X = dataset.iloc[:, [3, 4]].values"
      ],
      "execution_count": 27,
      "outputs": [
        {
          "output_type": "stream",
          "text": [
            "   CustomerID   Genre  Age  Annual Income (k$)  Spending Score (1-100)\n",
            "0           1    Male   19                  15                      39\n",
            "1           2    Male   21                  15                      81\n",
            "2           3  Female   20                  16                       6\n",
            "3           4  Female   23                  16                      77\n",
            "4           5  Female   31                  17                      40\n"
          ],
          "name": "stdout"
        }
      ]
    },
    {
      "cell_type": "markdown",
      "metadata": {
        "id": "nWC2EWp2Lx5G"
      },
      "source": [
        "## Using the elbow method to find the optimal number of clusters"
      ]
    },
    {
      "cell_type": "code",
      "metadata": {
        "colab": {
          "base_uri": "https://localhost:8080/",
          "height": 295
        },
        "id": "pFSahgO2OC9h",
        "outputId": "21068189-cc4b-40b9-ca31-5adb8499a7d3"
      },
      "source": [
        "from sklearn.cluster import KMeans\r\n",
        "# run the kMeans alg with i clusters\r\n",
        "wcss = []\r\n",
        "for i in range(1, 11):\r\n",
        "  kmeans = KMeans(n_clusters=i, init='k-means++', random_state=42)\r\n",
        "  kmeans.fit(X)\r\n",
        "  #inertia is the wcss value of the model\r\n",
        "  wcss.append(kmeans.inertia_)\r\n",
        "plt.plot( range(1, 11), wcss)\r\n",
        "plt.title('Elbow Method')\r\n",
        "plt.ylabel('WCSS')\r\n",
        "plt.xlabel('number of clusters')\r\n",
        "plt.show()\r\n",
        "# looks like we 5 clusters is the ideal"
      ],
      "execution_count": 28,
      "outputs": [
        {
          "output_type": "display_data",
          "data": {
            "image/png": "[encoded data removed]",
            "text/plain": [
              "<Figure size 432x288 with 1 Axes>"
            ]
          },
          "metadata": {
            "tags": [],
            "needs_background": "light"
          }
        }
      ]
    },
    {
      "cell_type": "markdown",
      "metadata": {
        "id": "VgT0mANLL4Nz"
      },
      "source": [
        "## Training the K-Means model on the dataset"
      ]
    },
    {
      "cell_type": "code",
      "metadata": {
        "colab": {
          "base_uri": "https://localhost:8080/"
        },
        "id": "IEatLyyMRabM",
        "outputId": "ed3614d9-fc61-4371-b77a-24f9546d97d0"
      },
      "source": [
        "kmeans = KMeans(n_clusters=5, init='k-means++', random_state=42)\r\n",
        "# we now created classes which are dependent values based on features\r\n",
        "y_means = kmeans.fit_predict(X)\r\n",
        "print(y_means)"
      ],
      "execution_count": 29,
      "outputs": [
        {
          "output_type": "stream",
          "text": [
            "[3 0 3 0 3 0 3 0 3 0 3 0 3 0 3 0 3 0 3 0 3 0 3 0 3 0 3 0 3 0 3 0 3 0 3 0 3\n",
            " 0 3 0 3 0 3 1 3 0 1 1 1 1 1 1 1 1 1 1 1 1 1 1 1 1 1 1 1 1 1 1 1 1 1 1 1 1\n",
            " 1 1 1 1 1 1 1 1 1 1 1 1 1 1 1 1 1 1 1 1 1 1 1 1 1 1 1 1 1 1 1 1 1 1 1 1 1\n",
            " 1 1 1 1 1 1 1 1 1 1 1 1 2 4 2 1 2 4 2 4 2 1 2 4 2 4 2 4 2 4 2 1 2 4 2 4 2\n",
            " 4 2 4 2 4 2 4 2 4 2 4 2 4 2 4 2 4 2 4 2 4 2 4 2 4 2 4 2 4 2 4 2 4 2 4 2 4\n",
            " 2 4 2 4 2 4 2 4 2 4 2 4 2 4 2]\n"
          ],
          "name": "stdout"
        }
      ]
    },
    {
      "cell_type": "markdown",
      "metadata": {
        "id": "e7YrS1JAMFnm"
      },
      "source": [
        "## Visualising the clusters"
      ]
    },
    {
      "cell_type": "code",
      "metadata": {
        "colab": {
          "base_uri": "https://localhost:8080/",
          "height": 295
        },
        "id": "I1A_XDJIVhbi",
        "outputId": "f69f9ecc-b3e2-49eb-b81f-c828d0097456"
      },
      "source": [
        "# X[y_means==0] means rows of X for which y_means of corresponding row is 0\r\n",
        "# scatter of icome vs credit score\r\n",
        "plt.scatter(X[y_means==0, 1], X[y_means==0, 0], c='blue', label='Cluster 1', s = 100)\r\n",
        "plt.scatter(X[y_means==1, 1], X[y_means==1, 0], c='red', label='Cluster 2', s = 100)\r\n",
        "plt.scatter(X[y_means==2, 1], X[y_means==2, 0], c='green', label='Cluster 3', s = 100)\r\n",
        "plt.scatter(X[y_means==3, 1], X[y_means==3, 0], c='cyan', label='Cluster 4', s = 100)\r\n",
        "plt.scatter(X[y_means==4, 1], X[y_means==4, 0], c='magenta', label='Cluster 5', s = 100)\r\n",
        "\r\n",
        "# plot the centroids\r\n",
        "# clusters_centers_ is 2d array with each entry being [x_center, y_center]\r\n",
        "plt.scatter(kmeans.cluster_centers_[:, 0], kmeans.cluster_centers_[:, 1], s=300, c='black')\r\n",
        "plt.title('Clusters of customers')\r\n",
        "plt.ylabel('Annual Income (k$)')\r\n",
        "plt.xlabel('Spending Score (1-100)')\r\n",
        "plt.legend()\r\n",
        "plt.show()\r\n",
        "# we can see some data points are similar"
      ],
      "execution_count": 44,
      "outputs": [
        {
          "output_type": "display_data",
          "data": {
            "image/png": "[encoded data removed]",
            "text/plain": [
              "<Figure size 432x288 with 1 Axes>"
            ]
          },
          "metadata": {
            "tags": [],
            "needs_background": "light"
          }
        }
      ]
    },
    {
      "cell_type": "markdown",
      "metadata": {
        "id": "uRE-1FBGaO5O"
      },
      "source": [
        "We can intepret the clusters as the following:\r\n",
        "- Cluster 1: People with low income, but who still spend a lot of money\r\n",
        "- Cluster 2: The average customers, with average income and average spending score\r\n",
        "- Cluster 3: People with  high income, but who spend a lot\r\n",
        "- Cluster 4: People with low income, so they spend less\r\n",
        "- Cluster 5: People with high income but who don't spend much  \r\n",
        "So if there if we were to use this customer data to incrase sales, we could target customers of cluster 4 when a new product releases"
      ]
    },
    {
      "cell_type": "markdown",
      "metadata": {
        "id": "xyRp8iX7brGX"
      },
      "source": [
        "TODO: do cluster with age and gender data included"
      ]
    }
  ]
}