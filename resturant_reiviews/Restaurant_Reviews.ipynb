{
  "nbformat": 4,
  "nbformat_minor": 0,
  "metadata": {
    "colab": {
      "name": "Copy of natural_language_processing.ipynb",
      "provenance": [],
      "collapsed_sections": [],
      "toc_visible": true
    },
    "kernelspec": {
      "name": "python3",
      "display_name": "Python 3"
    }
  },
  "cells": [
    {
      "cell_type": "markdown",
      "metadata": {
        "id": "VwK5-9FIB-lu"
      },
      "source": [
        "# Natural Language Processing"
      ]
    },
    {
      "cell_type": "markdown",
      "metadata": {
        "id": "X1kiO9kACE6s"
      },
      "source": [
        "## Importing the libraries"
      ]
    },
    {
      "cell_type": "code",
      "metadata": {
        "id": "O_54McxZPsmT"
      },
      "source": [
        "import pandas as pd\r\n",
        "import numpy as np\r\n",
        "import matplotlib.pyplot as plt\r\n"
      ],
      "execution_count": 179,
      "outputs": []
    },
    {
      "cell_type": "markdown",
      "metadata": {
        "id": "wTfaCIzdCLPA"
      },
      "source": [
        "## Importing the dataset"
      ]
    },
    {
      "cell_type": "code",
      "metadata": {
        "colab": {
          "base_uri": "https://localhost:8080/"
        },
        "id": "xkinmOI3PzPj",
        "outputId": "5cc27835-1d23-4221-e25a-1f069949b307"
      },
      "source": [
        "# quoting = 3, ignores \" to avoid processing errors \r\n",
        "dataset = pd.read_csv('Restaurant_Reviews.tsv', delimiter = '\\t', quoting = 3)\r\n",
        "print(dataset.head())"
      ],
      "execution_count": 180,
      "outputs": [
        {
          "output_type": "stream",
          "text": [
            "                                              Review  Liked\n",
            "0                           Wow... Loved this place.      1\n",
            "1                                 Crust is not good.      0\n",
            "2          Not tasty and the texture was just nasty.      0\n",
            "3  Stopped by during the late May bank holiday of...      1\n",
            "4  The selection on the menu was great and so wer...      1\n"
          ],
          "name": "stdout"
        }
      ]
    },
    {
      "cell_type": "markdown",
      "metadata": {
        "id": "Qekztq71CixT"
      },
      "source": [
        "## Cleaning the texts"
      ]
    },
    {
      "cell_type": "code",
      "metadata": {
        "colab": {
          "base_uri": "https://localhost:8080/"
        },
        "id": "FgapPdjKmrus",
        "outputId": "3461b55a-a25d-4c4a-ee44-eee2cfc45efe"
      },
      "source": [
        "import re\r\n",
        "import nltk\r\n",
        "nltk.download('stopwords')\r\n",
        "from nltk.corpus import stopwords\r\n",
        "from nltk.stem.porter import PorterStemmer\r\n",
        "corpus = []\r\n",
        "for i in range(0, 1000):\r\n",
        "  review = re.sub('[^a-zA-Z]', ' ', dataset.values[i, 0])\r\n",
        "  review = review.lower()\r\n",
        "  review = review.split() # tokenize (covernt from string to list)\r\n",
        "\r\n",
        "  #stemming\r\n",
        "  ps = PorterStemmer()\r\n",
        "  all_stopwords = stopwords.words('english')\r\n",
        "  # not indicates sentiment and therefore should not be part of stop words\r\n",
        "  all_stopwords.remove('not')\r\n",
        "  review = [ps.stem(word) for word in review if not word in set(all_stopwords)]\r\n",
        "  review = ' '.join(review)\r\n",
        "  corpus.append(review)"
      ],
      "execution_count": 181,
      "outputs": [
        {
          "output_type": "stream",
          "text": [
            "[nltk_data] Downloading package stopwords to /root/nltk_data...\n",
            "[nltk_data]   Package stopwords is already up-to-date!\n"
          ],
          "name": "stdout"
        }
      ]
    },
    {
      "cell_type": "markdown",
      "metadata": {
        "id": "CLqmAkANCp1-"
      },
      "source": [
        "## Creating the Bag of Words model"
      ]
    },
    {
      "cell_type": "code",
      "metadata": {
        "id": "Rb9hqbNo5Tz6"
      },
      "source": [
        "from sklearn.feature_extraction.text import CountVectorizer, TfidfVectorizer\r\n",
        "cv = CountVectorizer(max_features = 1500)\r\n",
        "x = cv.fit_transform(corpus).toarray()\r\n",
        "# tf_idf_vectorizer = TfidfVectorizer(max_features = 1500)\r\n",
        "# x = tf_idf_vectorizer.fit_transform(corpus).toarray()\r\n",
        "y = dataset.iloc[:, -1].values"
      ],
      "execution_count": 182,
      "outputs": []
    },
    {
      "cell_type": "markdown",
      "metadata": {
        "id": "DH_VjgPzC2cd"
      },
      "source": [
        "## Splitting the dataset into the Training set and Test set"
      ]
    },
    {
      "cell_type": "code",
      "metadata": {
        "id": "BCDa9loX5YDm"
      },
      "source": [
        "from sklearn.model_selection import train_test_split\r\n",
        "x_train, x_test, y_train, y_test = train_test_split(x, y, test_size = 0.2, random_state = 0)"
      ],
      "execution_count": 183,
      "outputs": []
    },
    {
      "cell_type": "markdown",
      "metadata": {
        "id": "VkIq23vEDIPt"
      },
      "source": [
        "## Training models on the Training set"
      ]
    },
    {
      "cell_type": "code",
      "metadata": {
        "id": "FpkIa09t6UCt"
      },
      "source": [
        "# Logistic regression\r\n",
        "from sklearn.linear_model import LogisticRegression\r\n",
        "lr = LogisticRegression().fit(x_train, y_train)\r\n",
        "# KNN\r\n",
        "from sklearn.neighbors import KNeighborsClassifier\r\n",
        "knn = KNeighborsClassifier(n_neighbors = 5, metric = 'minkowski', p = 2).fit(x_train, y_train)\r\n",
        "# SVM\r\n",
        "from sklearn.svm import SVC\r\n",
        "svc = SVC(kernel='rbf').fit(x_train, y_train)\r\n",
        "# Naive Bayes\r\n",
        "from sklearn.naive_bayes import GaussianNB\r\n",
        "nb = GaussianNB().fit(x_train, y_train)\r\n",
        "# Random forest\r\n",
        "from sklearn.ensemble import RandomForestClassifier\r\n",
        "rf = RandomForestClassifier(criterion='entropy').fit(x_train, y_train)"
      ],
      "execution_count": 184,
      "outputs": []
    },
    {
      "cell_type": "markdown",
      "metadata": {
        "id": "xoMltea5Dir1"
      },
      "source": [
        "## Making the Confusion Matrix"
      ]
    },
    {
      "cell_type": "code",
      "metadata": {
        "colab": {
          "base_uri": "https://localhost:8080/"
        },
        "id": "EOxW0yiS9G3z",
        "outputId": "43f83996-c3ff-4ab5-d06a-0191ee63af68"
      },
      "source": [
        "from sklearn.metrics import confusion_matrix, accuracy_score\r\n",
        "# logistic regression\r\n",
        "print(\"Logistic Regression performance\")\r\n",
        "y_pred_lr = lr.predict(x_test)\r\n",
        "print(confusion_matrix(y_test, y_pred_lr))\r\n",
        "print(accuracy_score(y_test, y_pred_lr))\r\n",
        "\r\n",
        "# knn\r\n",
        "print(\"KNN performance\")\r\n",
        "y_pred_knn = knn.predict(x_test)\r\n",
        "print(confusion_matrix(y_test, y_pred_knn))\r\n",
        "print(accuracy_score(y_test, y_pred_knn))\r\n",
        "\r\n",
        "# SVM\r\n",
        "print(\"SVM performance\")\r\n",
        "y_pred_svc = svc.predict(x_test)\r\n",
        "print(confusion_matrix(y_test, y_pred_svc))\r\n",
        "print(accuracy_score(y_test, y_pred_svc))\r\n",
        "\r\n",
        "# Naive Bayes\r\n",
        "print(\"Naive Bayes performance\")\r\n",
        "y_pred_nb = nb.predict(x_test)\r\n",
        "print(confusion_matrix(y_test, y_pred_nb))\r\n",
        "print(accuracy_score(y_test, y_pred_nb))\r\n",
        "\r\n",
        "# Random Forest\r\n",
        "print(\"Random Forest performance\")\r\n",
        "y_pred_rf = rf.predict(x_test)\r\n",
        "print(confusion_matrix(y_test, y_pred_rf))\r\n",
        "print(accuracy_score(y_test, y_pred_rf))"
      ],
      "execution_count": 185,
      "outputs": [
        {
          "output_type": "stream",
          "text": [
            "Logistic Regression performance\n",
            "[[80 17]\n",
            " [28 75]]\n",
            "0.775\n",
            "KNN performance\n",
            "[[74 23]\n",
            " [45 58]]\n",
            "0.66\n",
            "SVM performance\n",
            "[[89  8]\n",
            " [36 67]]\n",
            "0.78\n",
            "Naive Bayes performance\n",
            "[[55 42]\n",
            " [12 91]]\n",
            "0.73\n",
            "Random Forest performance\n",
            "[[90  7]\n",
            " [41 62]]\n",
            "0.76\n"
          ],
          "name": "stdout"
        }
      ]
    }
  ]
}