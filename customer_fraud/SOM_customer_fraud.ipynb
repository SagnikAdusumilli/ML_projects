{
  "nbformat": 4,
  "nbformat_minor": 0,
  "metadata": {
    "colab": {
      "name": "SOM.ipynb",
      "provenance": [],
      "collapsed_sections": [],
      "toc_visible": true
    },
    "kernelspec": {
      "name": "python3",
      "display_name": "Python 3"
    }
  },
  "cells": [
    {
      "cell_type": "markdown",
      "metadata": {
        "id": "t9oX7AL3nyLm"
      },
      "source": [
        "#Self Organizing Map"
      ]
    },
    {
      "cell_type": "markdown",
      "metadata": {
        "id": "r9maNhdd65pB"
      },
      "source": [
        "##Install MiniSom Package"
      ]
    },
    {
      "cell_type": "code",
      "metadata": {
        "id": "1KB28WUso0Bj",
        "colab": {
          "base_uri": "https://localhost:8080/"
        },
        "outputId": "48995538-8c2f-4b29-f993-4cf3113092f1"
      },
      "source": [
        "!pip install MiniSom"
      ],
      "execution_count": 138,
      "outputs": [
        {
          "output_type": "stream",
          "text": [
            "Requirement already satisfied: MiniSom in /usr/local/lib/python3.6/dist-packages (2.2.7)\n"
          ],
          "name": "stdout"
        }
      ]
    },
    {
      "cell_type": "markdown",
      "metadata": {
        "id": "6AX0Y23PnyOI"
      },
      "source": [
        "### Importing the libraries\n"
      ]
    },
    {
      "cell_type": "code",
      "metadata": {
        "id": "m-89YQdXRjJV"
      },
      "source": [
        "import numpy as np\r\n",
        "import pandas as pd\r\n",
        "import matplotlib.pyplot as plt"
      ],
      "execution_count": 139,
      "outputs": []
    },
    {
      "cell_type": "markdown",
      "metadata": {
        "id": "SCl7ERn_n539"
      },
      "source": [
        "## Importing the dataset"
      ]
    },
    {
      "cell_type": "code",
      "metadata": {
        "id": "RKzu_HMgRtJw"
      },
      "source": [
        "dataset = pd.read_csv('Credit_Card_Applications.csv')\r\n",
        "# Austrailian Credit Approval Data set\r\n",
        "# all attributes names have been put as meaningless symbols\r\n",
        "# so we have to use SOM to extract features\r\n",
        "# to get insights and segment customers\r\n",
        "\r\n",
        "# the frauds would be the outliers in dataset, therefore they will be the \r\n",
        "# outlier neurons that will be distant from other neurons from its neighborhood\r\n",
        "\r\n",
        "x = dataset.iloc[:, :-1].values\r\n",
        "y = dataset.iloc[:, -1]"
      ],
      "execution_count": 140,
      "outputs": []
    },
    {
      "cell_type": "markdown",
      "metadata": {
        "id": "fYHJ0dd6n-d4"
      },
      "source": [
        "## Feature Scaling\n"
      ]
    },
    {
      "cell_type": "code",
      "metadata": {
        "id": "BbrSawfBV2Wu"
      },
      "source": [
        "from sklearn.preprocessing import MinMaxScaler\r\n",
        "# NNs not effected by the distribution of the data\r\n",
        "# so normal scaling is used\r\n",
        "sc = MinMaxScaler(feature_range = (0, 1))\r\n",
        "x = sc.fit_transform(x)"
      ],
      "execution_count": 141,
      "outputs": []
    },
    {
      "cell_type": "markdown",
      "metadata": {
        "id": "aPp-7wfNoAhR"
      },
      "source": [
        "##Training the SOM\n"
      ]
    },
    {
      "cell_type": "code",
      "metadata": {
        "id": "Tl0FKIVJXCUL"
      },
      "source": [
        "from minisom import MiniSom\r\n",
        "som = MiniSom(x = 10, y = 10, input_len=15, sigma=1.0, learning_rate= 0.5)\r\n",
        "# initialize the weights\r\n",
        "som.random_weights_init(x)\r\n",
        "som.train_random(data=x, num_iteration=100) #100 epochs"
      ],
      "execution_count": 142,
      "outputs": []
    },
    {
      "cell_type": "markdown",
      "metadata": {
        "id": "YiU27C-ToCnH"
      },
      "source": [
        "##Visualizing the results\n"
      ]
    },
    {
      "cell_type": "code",
      "metadata": {
        "id": "D66kElS6ZMRs",
        "outputId": "cfc6bda6-3e0e-4a9e-b14c-5ac70b72e8de",
        "colab": {
          "base_uri": "https://localhost:8080/",
          "height": 269
        }
      },
      "source": [
        "from pylab import bone, pcolor, colorbar, plot, show\r\n",
        "bone()\r\n",
        "# display mean distances for all the units by color \r\n",
        "# (further they are, the brigther they get)\r\n",
        "# takes the transpose of the matrix\r\n",
        "pcolor(som.distance_map().T)\r\n",
        "colorbar()\r\n",
        "# therefore the custsomers that are close to the brightest \r\n",
        "# nodes are most likely to commit fraud\r\n",
        "\r\n",
        "# highlight the most suspicious customers who got approval\r\n",
        "markers = ['o', 's']\r\n",
        "colors = ['r', 'g']\r\n",
        "\r\n",
        "for i, row in enumerate(x):\r\n",
        "  w = som.winner(row)\r\n",
        "  plot(w[0] + 0.5, \r\n",
        "       w[1] + 0.5,\r\n",
        "       markers[y[i]],\r\n",
        "       markeredgecolor= colors[y[i]],\r\n",
        "       markerfacecolor = 'None',\r\n",
        "       markersize = 10,\r\n",
        "       markeredgewidth = 2)\r\n",
        "show()"
      ],
      "execution_count": 143,
      "outputs": [
        {
          "output_type": "display_data",
          "data": {
            "image/png": "[encoded data removed]",
            "text/plain": [
              "<Figure size 432x288 with 2 Axes>"
            ]
          },
          "metadata": {
            "tags": [],
            "needs_background": "light"
          }
        }
      ]
    },
    {
      "cell_type": "markdown",
      "metadata": {
        "id": "4C-I_jBfoEkP"
      },
      "source": [
        "## Finding the frauds\n"
      ]
    },
    {
      "cell_type": "code",
      "metadata": {
        "id": "40us_ClcfSEb"
      },
      "source": [
        "# get list of all co-ordinate for winning nodes\r\n",
        "mappings = som.win_map(x)\r\n",
        "# coordinates of outliar nodes (3,6) and (5,6)\r\n",
        "frauds = np.concatenate( (mappings[(3,6)], mappings[(5,6)]))\r\n",
        "frauds = sc.inverse_transform(frauds)"
      ],
      "execution_count": 145,
      "outputs": []
    },
    {
      "cell_type": "markdown",
      "metadata": {
        "id": "frXqAlpo84b1"
      },
      "source": [
        "##Printing the Fraud Client IDs"
      ]
    },
    {
      "cell_type": "code",
      "metadata": {
        "id": "6pMfA9xEiCsA",
        "outputId": "5c327f23-523a-40d4-f5b2-eb3903d229ef",
        "colab": {
          "base_uri": "https://localhost:8080/"
        }
      },
      "source": [
        "print(frauds[:, 0])"
      ],
      "execution_count": 146,
      "outputs": [
        {
          "output_type": "stream",
          "text": [
            "[15699963. 15667934. 15789611. 15668679. 15738487. 15773421. 15682686.\n",
            " 15781875. 15809837. 15636521. 15761554. 15707602. 15811690. 15815095.\n",
            " 15720725. 15672912. 15694677. 15759387. 15712483. 15698522.]\n"
          ],
          "name": "stdout"
        }
      ]
    }
  ]
}